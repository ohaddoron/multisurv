{
 "cells": [
  {
   "cell_type": "code",
   "metadata": {
    "code_folding": [],
    "scrolled": false
   },
   "source": [
    "%load_ext autoreload\n",
    "%autoreload 2\n",
    "\n",
    "%load_ext watermark\n",
    "\n",
    "import os\n",
    "from io import StringIO\n",
    "\n",
    "import numpy as np\n",
    "import pandas as pd\n",
    "import requests\n",
    "from sklearn.preprocessing import MinMaxScaler\n",
    "from sklearn.preprocessing import LabelEncoder"
   ],
   "outputs": [],
   "execution_count": null
  },
  {
   "cell_type": "code",
   "metadata": {},
   "source": [
    "DATA_LOCATION = '/mnt/dataA/TCGA/processed/'"
   ],
   "outputs": [],
   "execution_count": null
  },
  {
   "cell_type": "markdown",
   "metadata": {
    "toc": true
   },
   "source": [
    "<h1>Table of Contents<span class=\"tocSkip\"></span></h1>\n",
    "<div class=\"toc\"><ul class=\"toc-item\"><li><span><a href=\"#miRNA\" data-toc-modified-id=\"miRNA-1\"><span class=\"toc-item-num\">1&nbsp;&nbsp;</span>miRNA</a></span><ul class=\"toc-item\"><li><span><a href=\"#Map-files-to-patients\" data-toc-modified-id=\"Map-files-to-patients-1.1\"><span class=\"toc-item-num\">1.1&nbsp;&nbsp;</span>Map files to patients</a></span><ul class=\"toc-item\"><li><span><a href=\"#Drop-unused-patients\" data-toc-modified-id=\"Drop-unused-patients-1.1.1\"><span class=\"toc-item-num\">1.1.1&nbsp;&nbsp;</span>Drop unused patients</a></span></li></ul></li><li><span><a href=\"#Load-all-data\" data-toc-modified-id=\"Load-all-data-1.2\"><span class=\"toc-item-num\">1.2&nbsp;&nbsp;</span>Load all data</a></span></li><li><span><a href=\"#Scale-values\" data-toc-modified-id=\"Scale-values-1.3\"><span class=\"toc-item-num\">1.3&nbsp;&nbsp;</span>Scale values</a></span></li><li><span><a href=\"#Save-to-files\" data-toc-modified-id=\"Save-to-files-1.4\"><span class=\"toc-item-num\">1.4&nbsp;&nbsp;</span>Save to files</a></span></li></ul></li><li><span><a href=\"#mRNA\" data-toc-modified-id=\"mRNA-2\"><span class=\"toc-item-num\">2&nbsp;&nbsp;</span>mRNA</a></span><ul class=\"toc-item\"><li><span><a href=\"#Map-files-to-patients\" data-toc-modified-id=\"Map-files-to-patients-2.1\"><span class=\"toc-item-num\">2.1&nbsp;&nbsp;</span>Map files to patients</a></span><ul class=\"toc-item\"><li><span><a href=\"#Drop-unused-patients\" data-toc-modified-id=\"Drop-unused-patients-2.1.1\"><span class=\"toc-item-num\">2.1.1&nbsp;&nbsp;</span>Drop unused patients</a></span></li></ul></li><li><span><a href=\"#Pick-gene-subset\" data-toc-modified-id=\"Pick-gene-subset-2.2\"><span class=\"toc-item-num\">2.2&nbsp;&nbsp;</span>Pick gene subset</a></span><ul class=\"toc-item\"><li><span><a href=\"#Compute-variance-for-all-genes\" data-toc-modified-id=\"Compute-variance-for-all-genes-2.2.1\"><span class=\"toc-item-num\">2.2.1&nbsp;&nbsp;</span>Compute variance for all genes</a></span></li><li><span><a href=\"#Define-gene-subset\" data-toc-modified-id=\"Define-gene-subset-2.2.2\"><span class=\"toc-item-num\">2.2.2&nbsp;&nbsp;</span>Define gene subset</a></span></li></ul></li><li><span><a href=\"#Load-all-data\" data-toc-modified-id=\"Load-all-data-2.3\"><span class=\"toc-item-num\">2.3&nbsp;&nbsp;</span>Load all data</a></span></li><li><span><a href=\"#Scale-values\" data-toc-modified-id=\"Scale-values-2.4\"><span class=\"toc-item-num\">2.4&nbsp;&nbsp;</span>Scale values</a></span></li><li><span><a href=\"#Save-to-files\" data-toc-modified-id=\"Save-to-files-2.5\"><span class=\"toc-item-num\">2.5&nbsp;&nbsp;</span>Save to files</a></span></li></ul></li><li><span><a href=\"#DNA-methylation\" data-toc-modified-id=\"DNA-methylation-3\"><span class=\"toc-item-num\">3&nbsp;&nbsp;</span>DNA methylation</a></span><ul class=\"toc-item\"><li><span><a href=\"#Map-files-to-patients\" data-toc-modified-id=\"Map-files-to-patients-3.1\"><span class=\"toc-item-num\">3.1&nbsp;&nbsp;</span>Map files to patients</a></span><ul class=\"toc-item\"><li><span><a href=\"#Drop-unused-patients\" data-toc-modified-id=\"Drop-unused-patients-3.1.1\"><span class=\"toc-item-num\">3.1.1&nbsp;&nbsp;</span>Drop unused patients</a></span></li></ul></li><li><span><a href=\"#Pick-probe-subset\" data-toc-modified-id=\"Pick-probe-subset-3.2\"><span class=\"toc-item-num\">3.2&nbsp;&nbsp;</span>Pick probe subset</a></span><ul class=\"toc-item\"><li><span><a href=\"#Save-to-file\" data-toc-modified-id=\"Save-to-file-3.2.1\"><span class=\"toc-item-num\">3.2.1&nbsp;&nbsp;</span>Save to file</a></span></li><li><span><a href=\"#Compute-variance-for-all-selected-probes\" data-toc-modified-id=\"Compute-variance-for-all-selected-probes-3.2.2\"><span class=\"toc-item-num\">3.2.2&nbsp;&nbsp;</span>Compute variance for all selected probes</a></span></li><li><span><a href=\"#Define-probe-subset\" data-toc-modified-id=\"Define-probe-subset-3.2.3\"><span class=\"toc-item-num\">3.2.3&nbsp;&nbsp;</span>Define probe subset</a></span></li></ul></li><li><span><a href=\"#Load-all-data\" data-toc-modified-id=\"Load-all-data-3.3\"><span class=\"toc-item-num\">3.3&nbsp;&nbsp;</span>Load all data</a></span></li><li><span><a href=\"#Replace-nan-by-median-value\" data-toc-modified-id=\"Replace-nan-by-median-value-3.4\"><span class=\"toc-item-num\">3.4&nbsp;&nbsp;</span>Replace <code>nan</code> by median value</a></span></li><li><span><a href=\"#Save-to-files\" data-toc-modified-id=\"Save-to-files-3.5\"><span class=\"toc-item-num\">3.5&nbsp;&nbsp;</span>Save to files</a></span></li></ul></li><li><span><a href=\"#CNV\" data-toc-modified-id=\"CNV-4\"><span class=\"toc-item-num\">4&nbsp;&nbsp;</span>CNV</a></span><ul class=\"toc-item\"><li><span><a href=\"#Map-aliquotes-to-patients\" data-toc-modified-id=\"Map-aliquotes-to-patients-4.1\"><span class=\"toc-item-num\">4.1&nbsp;&nbsp;</span>Map aliquotes to patients</a></span></li><li><span><a href=\"#Load-all-data\" data-toc-modified-id=\"Load-all-data-4.2\"><span class=\"toc-item-num\">4.2&nbsp;&nbsp;</span>Load all data</a></span></li><li><span><a href=\"#Are-there-unchanged-genes?\" data-toc-modified-id=\"Are-there-unchanged-genes?-4.3\"><span class=\"toc-item-num\">4.3&nbsp;&nbsp;</span>Are there unchanged genes?</a></span></li><li><span><a href=\"#Replace-aliquote-by-patient-IDs\" data-toc-modified-id=\"Replace-aliquote-by-patient-IDs-4.4\"><span class=\"toc-item-num\">4.4&nbsp;&nbsp;</span>Replace aliquote by patient IDs</a></span><ul class=\"toc-item\"><li><span><a href=\"#Check-duplicate-patient-IDs\" data-toc-modified-id=\"Check-duplicate-patient-IDs-4.4.1\"><span class=\"toc-item-num\">4.4.1&nbsp;&nbsp;</span>Check duplicate patient IDs</a></span></li></ul></li><li><span><a href=\"#Encode-categorical-variables\" data-toc-modified-id=\"Encode-categorical-variables-4.5\"><span class=\"toc-item-num\">4.5&nbsp;&nbsp;</span>Encode categorical variables</a></span><ul class=\"toc-item\"><li><span><a href=\"#Drop-unused-patients\" data-toc-modified-id=\"Drop-unused-patients-4.5.1\"><span class=\"toc-item-num\">4.5.1&nbsp;&nbsp;</span>Drop unused patients</a></span></li></ul></li><li><span><a href=\"#Keep-only-high-variance-genes\" data-toc-modified-id=\"Keep-only-high-variance-genes-4.6\"><span class=\"toc-item-num\">4.6&nbsp;&nbsp;</span>Keep only high-variance genes</a></span></li><li><span><a href=\"#Save-to-files\" data-toc-modified-id=\"Save-to-files-4.7\"><span class=\"toc-item-num\">4.7&nbsp;&nbsp;</span>Save to files</a></span></li></ul></li></ul></div>"
   ]
  },
  {
   "cell_type": "markdown",
   "metadata": {},
   "source": [
    "# Functions <a class='tocSkip'></a>"
   ]
  },
  {
   "cell_type": "code",
   "metadata": {},
   "source": [
    "def request_file_info(data_type):\n",
    "    fields = [\n",
    "        'file_name',\n",
    "        'cases.submitter_id',\n",
    "        'cases.samples.sample_type',\n",
    "        'cases.project.project_id',\n",
    "        'cases.project.primary_site',\n",
    "        ]\n",
    "\n",
    "    fields = ','.join(fields)\n",
    "\n",
    "    files_endpt = 'https://api.gdc.cancer.gov/files'\n",
    "\n",
    "    filters = {\n",
    "        'op': 'and',\n",
    "        'content':[\n",
    "            {\n",
    "            'op': 'in',\n",
    "            'content':{\n",
    "                'field': 'files.experimental_strategy',\n",
    "                'value': [data_type]\n",
    "                }\n",
    "            }\n",
    "        ]\n",
    "    }\n",
    "\n",
    "    params = {\n",
    "        'filters': filters,\n",
    "        'fields': fields,\n",
    "        'format': 'TSV',\n",
    "        'size': '200000'\n",
    "        }\n",
    "\n",
    "    response = requests.post(files_endpt, headers = {'Content-Type': 'application/json'}, json = params)\n",
    "\n",
    "    return pd.read_csv(StringIO(response.content.decode('utf-8')), sep='\\t')"
   ],
   "outputs": [],
   "execution_count": null
  },
  {
   "cell_type": "code",
   "metadata": {},
   "source": [
    "def make_patient_file_map(df, base_dir):\n",
    "    d = {}\n",
    "    \n",
    "    for _, row in df.iterrows():\n",
    "        patient = row['cases.0.submitter_id']\n",
    "        if patient in d:\n",
    "            if not isinstance(d[patient], tuple):\n",
    "                d[patient] = (\n",
    "                    d[patient],\n",
    "                    os.path.join(base_dir, row.id, row.file_name))\n",
    "            else:\n",
    "                d[patient] += os.path.join(base_dir, row.id, row.file_name),\n",
    "        else:\n",
    "            d[patient] = os.path.join(base_dir, row.id, row.file_name)\n",
    "\n",
    "    return d"
   ],
   "outputs": [],
   "execution_count": null
  },
  {
   "cell_type": "code",
   "metadata": {},
   "source": [
    "def min_max_scale(data, features, groups):\n",
    "    train = data.loc[data.index.isin(groups['train']), features]\n",
    "\n",
    "    scaler = MinMaxScaler()\n",
    "    columns = train.columns\n",
    "    scaler = scaler.fit(train[columns])\n",
    "    \n",
    "    data.loc[data.index.isin(groups['train']), features] = scaler.transform(\n",
    "        train)\n",
    "    data.loc[data.index.isin(groups['val']), features] = scaler.transform(\n",
    "        data.loc[data.index.isin(groups['val']), features])\n",
    "    data.loc[data.index.isin(groups['test']), features] = scaler.transform(\n",
    "        data.loc[data.index.isin(groups['test']), features])\n",
    "    \n",
    "    return data"
   ],
   "outputs": [],
   "execution_count": null
  },
  {
   "cell_type": "code",
   "metadata": {},
   "source": [
    "def table_to_patient_files(table, dir_path, round_digits=4):\n",
    "    n = len(table)\n",
    "    \n",
    "    i = 0\n",
    "\n",
    "    for index, row in table.iterrows():\n",
    "        print('\\r' + f'Save data to files: {str(i + 1)}/{n}', end='')\n",
    "        i+= 1\n",
    "\n",
    "        target_file = os.path.join(dir_path, str(index) + '.tsv')\n",
    "        \n",
    "        with open(target_file, 'w') as f:\n",
    "            if round_digits is not None:\n",
    "                f.write('\\n'.join(str(round(value, round_digits)) for value in row.values))\n",
    "            else:\n",
    "                f.write('\\n'.join(str(value) for value in row.values))\n",
    "\n",
    "    print()\n",
    "    print()"
   ],
   "outputs": [],
   "execution_count": null
  },
  {
   "cell_type": "code",
   "metadata": {},
   "source": [
    "def merge_all_tables(table_list):\n",
    "    n = len(table_list)\n",
    "    \n",
    "    final_table = pd.DataFrame()\n",
    "\n",
    "    for i, table in enumerate(table_list):\n",
    "        print('\\r' + f'Merge data tables: {str(i + 1)}/{n}', end='')\n",
    "\n",
    "        if final_table.empty:\n",
    "            final_table = table\n",
    "        else:\n",
    "            final_table = final_table.join(table)\n",
    "    \n",
    "    print()\n",
    "    print('Final table dimensions:', final_table.shape)\n",
    "    print()\n",
    "\n",
    "    return final_table"
   ],
   "outputs": [],
   "execution_count": null
  },
  {
   "cell_type": "code",
   "metadata": {},
   "source": [
    "labels = pd.read_csv('../labels.tsv', sep='\\t')\n",
    "labels.head()"
   ],
   "outputs": [],
   "execution_count": null
  },
  {
   "cell_type": "code",
   "metadata": {},
   "source": [
    "id_groups = {\n",
    "    'train': list(labels.loc[labels['group'] == 'train', 'submitter_id']),\n",
    "    'val': list(labels.loc[labels['group'] == 'val', 'submitter_id']),\n",
    "    'test': list(labels.loc[labels['group'] == 'test', 'submitter_id'])}"
   ],
   "outputs": [],
   "execution_count": null
  },
  {
   "cell_type": "markdown",
   "metadata": {},
   "source": [
    "# miRNA"
   ]
  },
  {
   "cell_type": "markdown",
   "metadata": {},
   "source": [
    "## Map files to patients\n",
    "\n",
    "Use the [GDC API](https://docs.gdc.cancer.gov/API/Users_Guide/Python_Examples/#using-python-to-query-the-gdc-api) to retrieve mapping between file names and patient IDs. Collect results as Pandas `DataFrame`."
   ]
  },
  {
   "cell_type": "code",
   "metadata": {},
   "source": [
    "%%time\n",
    "\n",
    "miRNA_files = request_file_info(data_type='miRNA-Seq')\n",
    "miRNA_files.shape"
   ],
   "outputs": [],
   "execution_count": null
  },
  {
   "cell_type": "code",
   "metadata": {},
   "source": [
    "miRNA_files.head()"
   ],
   "outputs": [],
   "execution_count": null
  },
  {
   "cell_type": "code",
   "metadata": {},
   "source": [
    "miRNA_files = miRNA_files[miRNA_files['cases.0.project.project_id'].str.startswith('TCGA')]\n",
    "miRNA_files = miRNA_files[miRNA_files['file_name'].str.endswith('mirbase21.mirnas.quantification.txt')]\n",
    "miRNA_files = miRNA_files[miRNA_files['cases.0.samples.0.sample_type'] == 'Primary Tumor']\n",
    "miRNA_files.shape"
   ],
   "outputs": [],
   "execution_count": null
  },
  {
   "cell_type": "markdown",
   "metadata": {},
   "source": [
    "Some cases have more than one `*mirbase21.mirnas.quantification.txt` file. I suppose these are replicate runs for the same patient. Accordingly, checking some examples showed that `reads_per_million_miRNA_mapped` values were highly correlated. Here I will simply keep the first one in the table and drop the other ones. This decision may be revisited later on if deemed useful."
   ]
  },
  {
   "cell_type": "code",
   "metadata": {},
   "source": [
    "print('All rows:       ', miRNA_files.shape[0])\n",
    "print('Unique patients:', miRNA_files['cases.0.submitter_id'].unique().shape[0])"
   ],
   "outputs": [],
   "execution_count": null
  },
  {
   "cell_type": "code",
   "metadata": {},
   "source": [
    "miRNA_files = miRNA_files[~miRNA_files.duplicated(subset=['cases.0.submitter_id'], keep='first')]\n",
    "miRNA_files.shape"
   ],
   "outputs": [],
   "execution_count": null
  },
  {
   "cell_type": "code",
   "metadata": {},
   "source": [
    "file_map = make_patient_file_map(df=miRNA_files, base_dir='/mnt/dataA/TCGA/raw/miRNA-seq/')"
   ],
   "outputs": [],
   "execution_count": null
  },
  {
   "cell_type": "markdown",
   "metadata": {},
   "source": [
    "### Drop unused patients\n",
    "\n",
    "Keep only patients present in label data."
   ]
  },
  {
   "cell_type": "code",
   "metadata": {},
   "source": [
    "len(file_map)"
   ],
   "outputs": [],
   "execution_count": null
  },
  {
   "cell_type": "code",
   "metadata": {},
   "source": [
    "labels = pd.read_csv('../data/labels.tsv', sep='\\t')\n",
    "len(labels['submitter_id'])"
   ],
   "outputs": [],
   "execution_count": null
  },
  {
   "cell_type": "code",
   "metadata": {},
   "source": [
    "file_map = {k: file_map[k] for k in file_map if k in list(labels['submitter_id'])}"
   ],
   "outputs": [],
   "execution_count": null
  },
  {
   "cell_type": "code",
   "metadata": {},
   "source": [
    "len(file_map)"
   ],
   "outputs": [],
   "execution_count": null
  },
  {
   "cell_type": "markdown",
   "metadata": {},
   "source": [
    "## Load all data"
   ]
  },
  {
   "cell_type": "code",
   "metadata": {},
   "source": [
    "def load_all_miRNA_data(patient_file_map):\n",
    "    n = len(patient_file_map)\n",
    "    \n",
    "    dfs = []\n",
    "    for i, patient in enumerate(patient_file_map):\n",
    "        print('\\r' + f'Load data tables: {str(i + 1)}/{n}', end='')\n",
    "        df = pd.read_csv(patient_file_map[patient], sep='\\t',\n",
    "                         usecols=['miRNA_ID', 'reads_per_million_miRNA_mapped'],\n",
    "                         index_col=0)\n",
    "        df.columns = [patient]\n",
    "        dfs.append(df)\n",
    "\n",
    "    print()\n",
    "    print()\n",
    "\n",
    "    return dfs"
   ],
   "outputs": [],
   "execution_count": null
  },
  {
   "cell_type": "code",
   "metadata": {},
   "source": [
    "%%time\n",
    "\n",
    "data_tables = load_all_miRNA_data(patient_file_map=file_map)"
   ],
   "outputs": [],
   "execution_count": null
  },
  {
   "cell_type": "code",
   "metadata": {},
   "source": [
    "%%time\n",
    "\n",
    "miRNA = merge_all_tables(data_tables)"
   ],
   "outputs": [],
   "execution_count": null
  },
  {
   "cell_type": "markdown",
   "metadata": {},
   "source": [
    "## Scale values"
   ]
  },
  {
   "cell_type": "code",
   "metadata": {},
   "source": [
    "miRNA.shape"
   ],
   "outputs": [],
   "execution_count": null
  },
  {
   "cell_type": "code",
   "metadata": {},
   "source": [
    "miRNA.head()"
   ],
   "outputs": [],
   "execution_count": null
  },
  {
   "cell_type": "code",
   "metadata": {},
   "source": [
    "miRNA = min_max_scale(data=miRNA.T, features=miRNA.T.columns, groups=id_groups)"
   ],
   "outputs": [],
   "execution_count": null
  },
  {
   "cell_type": "code",
   "metadata": {},
   "source": [
    "miRNA.head()"
   ],
   "outputs": [],
   "execution_count": null
  },
  {
   "cell_type": "code",
   "metadata": {},
   "source": [
    "miRNA.loc[miRNA.index.isin(['TCGA-A8-A09K', 'TCGA-EW-A1OX', 'TCGA-A2-A3KD'])]"
   ],
   "outputs": [],
   "execution_count": null
  },
  {
   "cell_type": "markdown",
   "metadata": {},
   "source": [
    "## Save to files"
   ]
  },
  {
   "cell_type": "raw",
   "metadata": {},
   "source": [
    "%%time\n",
    "\n",
    "table_to_patient_files(\n",
    "    miRNA, dir_path=os.path.join(DATA_LOCATION, 'miRNA-seq'), round_digits=4)"
   ]
  },
  {
   "cell_type": "markdown",
   "metadata": {},
   "source": [
    "# mRNA"
   ]
  },
  {
   "cell_type": "markdown",
   "metadata": {},
   "source": [
    "## Map files to patients\n",
    "\n",
    "Use the [GDC API](https://docs.gdc.cancer.gov/API/Users_Guide/Python_Examples/#using-python-to-query-the-gdc-api) to retrieve mapping between file names and patient IDs. Collect results as Pandas `DataFrame`."
   ]
  },
  {
   "cell_type": "code",
   "metadata": {},
   "source": [
    "%%time\n",
    "\n",
    "mRNA_files = request_file_info(data_type='RNA-Seq')\n",
    "mRNA_files.shape"
   ],
   "outputs": [],
   "execution_count": null
  },
  {
   "cell_type": "code",
   "metadata": {},
   "source": [
    "mRNA_files.head()"
   ],
   "outputs": [],
   "execution_count": null
  },
  {
   "cell_type": "raw",
   "metadata": {},
   "source": [
    "mRNA_files = mRNA_files[mRNA_files['cases.0.project.project_id'].str.startswith('TCGA')]\n",
    "mRNA_files = mRNA_files[mRNA_files['file_name'].str.endswith('htseq.counts.gz')]\n",
    "mRNA_files = mRNA_files[mRNA_files['cases.0.samples.0.sample_type'] == 'Primary Tumor']\n",
    "mRNA_files.shape"
   ]
  },
  {
   "cell_type": "code",
   "metadata": {},
   "source": [
    "mRNA_files = mRNA_files[mRNA_files['cases.0.project.project_id'].str.startswith('TCGA')]\n",
    "mRNA_files = mRNA_files[mRNA_files['file_name'].str.endswith('FPKM-UQ.txt.gz')]\n",
    "mRNA_files = mRNA_files[mRNA_files['cases.0.samples.0.sample_type'] == 'Primary Tumor']\n",
    "mRNA_files.shape"
   ],
   "outputs": [],
   "execution_count": null
  },
  {
   "cell_type": "markdown",
   "metadata": {},
   "source": [
    "As for miRNA above, when there is more than one file for a single patient just keep the first one. Again, this decision may be revisited later on if deemed useful."
   ]
  },
  {
   "cell_type": "code",
   "metadata": {},
   "source": [
    "print('All rows:       ', mRNA_files.shape[0])\n",
    "print('Unique patients:', mRNA_files['cases.0.submitter_id'].unique().shape[0])"
   ],
   "outputs": [],
   "execution_count": null
  },
  {
   "cell_type": "code",
   "metadata": {},
   "source": [
    "mRNA_files = mRNA_files[~mRNA_files.duplicated(subset=['cases.0.submitter_id'], keep='first')]\n",
    "mRNA_files.shape"
   ],
   "outputs": [],
   "execution_count": null
  },
  {
   "cell_type": "code",
   "metadata": {},
   "source": [
    "file_map = make_patient_file_map(mRNA_files, base_dir='/mnt/dataA/TCGA/raw/RNA-seq_FPKM-UQ/')"
   ],
   "outputs": [],
   "execution_count": null
  },
  {
   "cell_type": "markdown",
   "metadata": {},
   "source": [
    "### Drop unused patients\n",
    "\n",
    "Keep only patients present in label data."
   ]
  },
  {
   "cell_type": "code",
   "metadata": {},
   "source": [
    "len(file_map)"
   ],
   "outputs": [],
   "execution_count": null
  },
  {
   "cell_type": "code",
   "metadata": {},
   "source": [
    "labels = pd.read_csv('../data/labels.tsv', sep='\\t')\n",
    "len(labels['submitter_id'])"
   ],
   "outputs": [],
   "execution_count": null
  },
  {
   "cell_type": "code",
   "metadata": {},
   "source": [
    "file_map = {k: file_map[k] for k in file_map if k in list(labels['submitter_id'])}"
   ],
   "outputs": [],
   "execution_count": null
  },
  {
   "cell_type": "code",
   "metadata": {},
   "source": [
    "len(file_map)"
   ],
   "outputs": [],
   "execution_count": null
  },
  {
   "cell_type": "markdown",
   "metadata": {},
   "source": [
    "## Pick gene subset\n",
    "\n",
    "Most genes are probably not informative. Check variance of each gene across patients and remove low-variance genes to reduce data size.\n",
    "\n",
    "Calculate variance iteratively for gene subsets, to avoid memory issues."
   ]
  },
  {
   "cell_type": "markdown",
   "metadata": {},
   "source": [
    "### Compute variance for all genes\n",
    "\n",
    "Run dedicated script (found here in `src/scripts` directory) as follows:\n",
    "\n",
    "```bash\n",
    "$ conda activate ig\n",
    "$ python ./compute_gene_variance.py \\\n",
    "   -i /mnt/dataA/TCGA/raw/RNA-seq_FPKM-UQ/\n",
    "   -s 10000 \\\n",
    "   -o /mnt/dataA/TCGA/raw/RNA-seq_FPKM-UQ_variance.tsv\n",
    "```"
   ]
  },
  {
   "cell_type": "markdown",
   "metadata": {},
   "source": [
    "### Define gene subset\n",
    "\n",
    "Keep a sensible number of genes showing the highest variance across patients.\n",
    "\n",
    "Running the model on mRNA data after keeping increasing numbers of genes (500, 750, 1'000, or 2'000) showed slight increases in training data C-index (~2 percentage points). Picked the subset yielding highest validation C-index."
   ]
  },
  {
   "cell_type": "code",
   "metadata": {},
   "source": [
    "# Load computed variance table\n",
    "variance_table = pd.read_csv('/mnt/dataA/TCGA/raw/RNA-seq_count_variance.tsv', sep='\\t',\n",
    "                             header=None, index_col=0, names=['Var'])"
   ],
   "outputs": [],
   "execution_count": null
  },
  {
   "cell_type": "code",
   "metadata": {},
   "source": [
    "print(f'# of represented mRNAs: {len(variance_table)}')"
   ],
   "outputs": [],
   "execution_count": null
  },
  {
   "cell_type": "code",
   "metadata": {},
   "source": [
    "variance_table.head()"
   ],
   "outputs": [],
   "execution_count": null
  },
  {
   "cell_type": "code",
   "metadata": {},
   "source": [
    "variance_table.sort_values('Var', ascending=False).head(10)"
   ],
   "outputs": [],
   "execution_count": null
  },
  {
   "cell_type": "code",
   "metadata": {},
   "source": [
    "variance_table.describe()"
   ],
   "outputs": [],
   "execution_count": null
  },
  {
   "cell_type": "code",
   "metadata": {},
   "source": [
    "variance_table.boxplot()"
   ],
   "outputs": [],
   "execution_count": null
  },
  {
   "cell_type": "code",
   "metadata": {},
   "source": [
    "e = 1e-7\n",
    "np.log10(variance_table + e).boxplot()"
   ],
   "outputs": [],
   "execution_count": null
  },
  {
   "cell_type": "code",
   "metadata": {},
   "source": [
    "len(variance_table[variance_table['Var'] > 1e9])"
   ],
   "outputs": [],
   "execution_count": null
  },
  {
   "cell_type": "code",
   "metadata": {},
   "source": [
    "variance_table[variance_table['Var'] > 1e9].sort_values(by='Var', ascending=False).plot(use_index=False)"
   ],
   "outputs": [],
   "execution_count": null
  },
  {
   "cell_type": "code",
   "metadata": {},
   "source": [
    "# Variance quantile to drop all genes but the top 2k\n",
    "q = (variance_table.shape[0] - 2e3) / variance_table.shape[0]\n",
    "print(f'Percentile = {round(q * 100, 1)}%')\n",
    "\n",
    "variance_table[variance_table['Var'] > variance_table['Var'].quantile(q=q)].shape"
   ],
   "outputs": [],
   "execution_count": null
  },
  {
   "cell_type": "code",
   "metadata": {},
   "source": [
    "# Variance quantile to drop all genes but the top 1k\n",
    "q = (variance_table.shape[0] - 1e3) / variance_table.shape[0]\n",
    "print(f'Percentile = {round(q * 100, 1)}%')\n",
    "\n",
    "variance_table[variance_table['Var'] > variance_table['Var'].quantile(q=q)].shape"
   ],
   "outputs": [],
   "execution_count": null
  },
  {
   "cell_type": "code",
   "metadata": {},
   "source": [
    "# Get IDs for all genes to keep\n",
    "genes_to_keep = list(variance_table[variance_table['Var'] > variance_table['Var'].quantile(q=q)].index)\n",
    "genes_to_keep[:5]"
   ],
   "outputs": [],
   "execution_count": null
  },
  {
   "cell_type": "code",
   "metadata": {},
   "source": [
    "len(genes_to_keep)"
   ],
   "outputs": [],
   "execution_count": null
  },
  {
   "cell_type": "markdown",
   "metadata": {},
   "source": [
    "## Load all data"
   ]
  },
  {
   "cell_type": "code",
   "metadata": {},
   "source": [
    "def load_all_mRNA_data(patient_file_map, genes):\n",
    "    n = len(patient_file_map)\n",
    "    \n",
    "    dfs = []\n",
    "    for i, patient in enumerate(patient_file_map):\n",
    "        print('\\r' + f'Load data tables: {str(i + 1)}/{n}', end='')\n",
    "        df = pd.read_csv(patient_file_map[patient], sep='\\t', header=None,\n",
    "                         index_col=0)\n",
    "        df = df.loc[genes]\n",
    "        df.columns = [patient]\n",
    "        dfs.append(df)\n",
    "\n",
    "    print()\n",
    "    print()\n",
    "\n",
    "    return dfs"
   ],
   "outputs": [],
   "execution_count": null
  },
  {
   "cell_type": "code",
   "metadata": {},
   "source": [
    "%%time\n",
    "\n",
    "data_tables = load_all_mRNA_data(patient_file_map=file_map, genes=genes_to_keep)"
   ],
   "outputs": [],
   "execution_count": null
  },
  {
   "cell_type": "code",
   "metadata": {},
   "source": [
    "data_tables[0].head()"
   ],
   "outputs": [],
   "execution_count": null
  },
  {
   "cell_type": "code",
   "metadata": {},
   "source": [
    "%%time\n",
    "\n",
    "mRNA = merge_all_tables(data_tables)"
   ],
   "outputs": [],
   "execution_count": null
  },
  {
   "cell_type": "markdown",
   "metadata": {},
   "source": [
    "## Scale values"
   ]
  },
  {
   "cell_type": "code",
   "metadata": {},
   "source": [
    "mRNA.shape"
   ],
   "outputs": [],
   "execution_count": null
  },
  {
   "cell_type": "code",
   "metadata": {},
   "source": [
    "mRNA.head()"
   ],
   "outputs": [],
   "execution_count": null
  },
  {
   "cell_type": "code",
   "metadata": {},
   "source": [
    "mRNA = min_max_scale(data=mRNA.T, features=mRNA.T.columns, groups=id_groups)"
   ],
   "outputs": [],
   "execution_count": null
  },
  {
   "cell_type": "code",
   "metadata": {},
   "source": [
    "mRNA.head()"
   ],
   "outputs": [],
   "execution_count": null
  },
  {
   "cell_type": "markdown",
   "metadata": {},
   "source": [
    "## Save to files"
   ]
  },
  {
   "cell_type": "raw",
   "metadata": {},
   "source": [
    "%%time\n",
    "\n",
    "table_to_patient_files(\n",
    "    mRNA, dir_path=os.path.join(DATA_LOCATION, 'RNA-seq'), round_digits=4)"
   ]
  },
  {
   "cell_type": "markdown",
   "metadata": {},
   "source": [
    "# DNA methylation\n",
    "\n",
    "As explained in the GDC [Methylation Liftover Pipeline page](https://docs.gdc.cancer.gov/Data/Bioinformatics_Pipelines/Methylation_LO_Pipeline/), data was generated using either Illumina Infinium Human Methylation 27 (HM27; 27'578 probes) or HumanMethylation450 (HM450; 485'577 probes).\n",
    "\n",
    "Use the intersection of the probes between the two (25'978 probes)."
   ]
  },
  {
   "cell_type": "markdown",
   "metadata": {},
   "source": [
    "## Map files to patients\n",
    "\n",
    "Use the [GDC API](https://docs.gdc.cancer.gov/API/Users_Guide/Python_Examples/#using-python-to-query-the-gdc-api) to retrieve mapping between file names and patient IDs. Collect results as Pandas `DataFrame`."
   ]
  },
  {
   "cell_type": "code",
   "metadata": {},
   "source": [
    "%%time\n",
    "\n",
    "DNAm_files = request_file_info(data_type='Methylation Array')\n",
    "DNAm_files.shape"
   ],
   "outputs": [],
   "execution_count": null
  },
  {
   "cell_type": "code",
   "metadata": {},
   "source": [
    "DNAm_files.head()"
   ],
   "outputs": [],
   "execution_count": null
  },
  {
   "cell_type": "code",
   "metadata": {},
   "source": [
    "DNAm_files = DNAm_files[DNAm_files['cases.0.project.project_id'].str.startswith('TCGA')]\n",
    "DNAm_files = DNAm_files[DNAm_files['file_name'].str.endswith('gdc_hg38.txt')]\n",
    "DNAm_files = DNAm_files[DNAm_files['cases.0.samples.0.sample_type'] == 'Primary Tumor']\n",
    "DNAm_files.shape"
   ],
   "outputs": [],
   "execution_count": null
  },
  {
   "cell_type": "markdown",
   "metadata": {},
   "source": [
    "As for miRNA above, when there is more than one file for a single patient just keep the first one. Again, this decision may be revisited later, if deemed useful."
   ]
  },
  {
   "cell_type": "code",
   "metadata": {},
   "source": [
    "print('All rows:       ', DNAm_files.shape[0])\n",
    "print('Unique patients:', DNAm_files['cases.0.submitter_id'].unique().shape[0])"
   ],
   "outputs": [],
   "execution_count": null
  },
  {
   "cell_type": "code",
   "metadata": {},
   "source": [
    "DNAm_files = DNAm_files[~DNAm_files.duplicated(subset=['cases.0.submitter_id'], keep='first')]\n",
    "DNAm_files.shape"
   ],
   "outputs": [],
   "execution_count": null
  },
  {
   "cell_type": "code",
   "metadata": {},
   "source": [
    "file_map = make_patient_file_map(DNAm_files, base_dir='/mnt/dataA/TCGA/raw/Methylation/')"
   ],
   "outputs": [],
   "execution_count": null
  },
  {
   "cell_type": "markdown",
   "metadata": {},
   "source": [
    "### Drop unused patients\n",
    "\n",
    "Keep only patients present in label data."
   ]
  },
  {
   "cell_type": "code",
   "metadata": {},
   "source": [
    "len(file_map)"
   ],
   "outputs": [],
   "execution_count": null
  },
  {
   "cell_type": "code",
   "metadata": {},
   "source": [
    "labels = pd.read_csv('../data/labels.tsv', sep='\\t')\n",
    "len(labels['submitter_id'])"
   ],
   "outputs": [],
   "execution_count": null
  },
  {
   "cell_type": "code",
   "metadata": {},
   "source": [
    "file_map = {k: file_map[k] for k in file_map if k in list(labels['submitter_id'])}"
   ],
   "outputs": [],
   "execution_count": null
  },
  {
   "cell_type": "code",
   "metadata": {},
   "source": [
    "len(file_map)"
   ],
   "outputs": [],
   "execution_count": null
  },
  {
   "cell_type": "markdown",
   "metadata": {},
   "source": [
    "## Pick probe subset\n",
    "\n",
    "Check a small subset of 100 files to get an idea of the types of data and their proportions in the dataset."
   ]
  },
  {
   "cell_type": "code",
   "metadata": {},
   "source": [
    "%%time\n",
    "\n",
    "# List number of probes per file\n",
    "total_n_lines = []\n",
    "i = 0\n",
    "\n",
    "for patient in file_map:\n",
    "    i += 1\n",
    "    if i > 100:\n",
    "        break\n",
    "    if isinstance(file_map[patient], tuple):\n",
    "        total_n_lines = [total_n_lines.append(len(list(pd.read_csv(\n",
    "            f, sep='\\t', index_col=0, usecols=['Composite Element REF', 'Beta_value']).index)))\n",
    "                         for f in file_map[patient]]\n",
    "    else:\n",
    "        total_n_lines.append(len(list(pd.read_csv(\n",
    "            file_map[patient], sep='\\t', index_col=0,\n",
    "            usecols=['Composite Element REF', 'Beta_value']).index)))"
   ],
   "outputs": [],
   "execution_count": null
  },
  {
   "cell_type": "code",
   "metadata": {},
   "source": [
    "set(total_n_lines)"
   ],
   "outputs": [],
   "execution_count": null
  },
  {
   "cell_type": "code",
   "metadata": {},
   "source": [
    "element = 27578\n",
    "total_n_lines.count(element)"
   ],
   "outputs": [],
   "execution_count": null
  },
  {
   "cell_type": "code",
   "metadata": {},
   "source": [
    "element = 485577\n",
    "total_n_lines.count(element)"
   ],
   "outputs": [],
   "execution_count": null
  },
  {
   "cell_type": "code",
   "metadata": {},
   "source": [
    "eg_file = file_map[list(file_map.keys())[100]]\n",
    "total_n_lines = len(list(pd.read_csv(\n",
    "    eg_file, sep='\\t', index_col=0, usecols=['Composite Element REF', 'Beta_value']).index))\n",
    "total_n_lines"
   ],
   "outputs": [],
   "execution_count": null
  },
  {
   "cell_type": "code",
   "metadata": {},
   "source": [
    "DNAm = pd.read_csv(eg_file, sep='\\t', index_col=0, usecols=['Composite Element REF', 'Beta_value'])"
   ],
   "outputs": [],
   "execution_count": null
  },
  {
   "cell_type": "code",
   "metadata": {},
   "source": [
    "DNAm.head()"
   ],
   "outputs": [],
   "execution_count": null
  },
  {
   "cell_type": "code",
   "metadata": {},
   "source": [
    "DNAm.shape"
   ],
   "outputs": [],
   "execution_count": null
  },
  {
   "cell_type": "code",
   "metadata": {},
   "source": [
    "probes = list(DNAm.index)\n",
    "probes[:5]"
   ],
   "outputs": [],
   "execution_count": null
  },
  {
   "cell_type": "code",
   "metadata": {},
   "source": [
    "DNAm = pd.read_csv('/mnt/dataA/TCGA/raw/Methylation/0000c40e-9d45-4446-9dd9-a4676224d0ce/jhu-usc.edu_GBM.HumanMethylation450.7.lvl-3.TCGA-19-5955-01A-11D-1697-05.gdc_hg38.txt',\n",
    "                   sep='\\t', index_col=0, usecols=['Composite Element REF', 'Beta_value'])"
   ],
   "outputs": [],
   "execution_count": null
  },
  {
   "cell_type": "code",
   "metadata": {},
   "source": [
    "DNAm.head()"
   ],
   "outputs": [],
   "execution_count": null
  },
  {
   "cell_type": "code",
   "metadata": {},
   "source": [
    "DNAm.shape"
   ],
   "outputs": [],
   "execution_count": null
  },
  {
   "cell_type": "code",
   "metadata": {},
   "source": [
    "DNAm[DNAm.index == 'cg00000292']"
   ],
   "outputs": [],
   "execution_count": null
  },
  {
   "cell_type": "code",
   "metadata": {},
   "source": [
    "%%time\n",
    "\n",
    "print('# Illumina Infinium Human Methylation 27 (HM27) probes found in HumanMethylation450 (HM450):')\n",
    "print(sum([p in probes for p in list(DNAm.index)]))\n",
    "print()"
   ],
   "outputs": [],
   "execution_count": null
  },
  {
   "cell_type": "markdown",
   "metadata": {},
   "source": [
    "Use the intersection of the probe sets in the two technologies (25'978 according to the two example files used here)."
   ]
  },
  {
   "cell_type": "code",
   "metadata": {},
   "source": [
    "probe_set = [p for p in list(DNAm.index) if p in probes]"
   ],
   "outputs": [],
   "execution_count": null
  },
  {
   "cell_type": "code",
   "metadata": {},
   "source": [
    "len(probe_set)"
   ],
   "outputs": [],
   "execution_count": null
  },
  {
   "cell_type": "code",
   "metadata": {},
   "source": [
    "probe_set[:10]"
   ],
   "outputs": [],
   "execution_count": null
  },
  {
   "cell_type": "markdown",
   "metadata": {},
   "source": [
    "### Save to file"
   ]
  },
  {
   "cell_type": "code",
   "metadata": {},
   "source": [
    "target_file = '../data/DNAm_probes.tsv'"
   ],
   "outputs": [],
   "execution_count": null
  },
  {
   "cell_type": "raw",
   "metadata": {},
   "source": [
    "with open(target_file, 'w') as f:\n",
    "    f.write('\\n'.join(str(value) for value in probe_set))"
   ]
  },
  {
   "cell_type": "code",
   "metadata": {},
   "source": [
    "pd.read_csv(target_file, sep='\\t', header=None, names=['Probes']).head()"
   ],
   "outputs": [],
   "execution_count": null
  },
  {
   "cell_type": "code",
   "metadata": {},
   "source": [
    "pd.read_csv(target_file, sep='\\t', header=None, names=['Probes']).shape"
   ],
   "outputs": [],
   "execution_count": null
  },
  {
   "cell_type": "markdown",
   "metadata": {},
   "source": [
    "### Compute variance for all selected probes\n",
    "\n",
    "Run dedicated script (found here in `src/scripts` directory) as follows:\n",
    "\n",
    "```bash\n",
    "$ conda activate ig\n",
    "$ python ./compute_DNAm_variance.py \\\n",
    "   -i /mnt/dataA/TCGA/raw/Methylation/ \\\n",
    "   -s 5000 \\\n",
    "   -l ../data/labels.tsv \\\n",
    "   -p ../data/DNAm_probes.tsv \\\n",
    "   -o /mnt/dataA/TCGA/raw/DNA_methylation_Beta-value_variance.tsv\n",
    "```"
   ]
  },
  {
   "cell_type": "markdown",
   "metadata": {},
   "source": [
    "### Define probe subset\n",
    "\n",
    "Keep a sensible number of probes showing the highest variance across patients."
   ]
  },
  {
   "cell_type": "code",
   "metadata": {},
   "source": [
    "# Load computed variance table\n",
    "variance_table = pd.read_csv('/mnt/dataA/TCGA/raw/DNA_methylation_Beta-value_variance.tsv', sep='\\t',\n",
    "                             header=None, index_col=0, names=['Var'])"
   ],
   "outputs": [],
   "execution_count": null
  },
  {
   "cell_type": "code",
   "metadata": {},
   "source": [
    "variance_table.head()"
   ],
   "outputs": [],
   "execution_count": null
  },
  {
   "cell_type": "code",
   "metadata": {},
   "source": [
    "variance_table.sort_values('Var', ascending=False).head(10)"
   ],
   "outputs": [],
   "execution_count": null
  },
  {
   "cell_type": "code",
   "metadata": {},
   "source": [
    "variance_table.describe()"
   ],
   "outputs": [],
   "execution_count": null
  },
  {
   "cell_type": "code",
   "metadata": {},
   "source": [
    "variance_table.boxplot()"
   ],
   "outputs": [],
   "execution_count": null
  },
  {
   "cell_type": "code",
   "metadata": {},
   "source": [
    "e = 1e-7\n",
    "np.log10(variance_table + e).boxplot()"
   ],
   "outputs": [],
   "execution_count": null
  },
  {
   "cell_type": "code",
   "metadata": {},
   "source": [
    "variance_table[variance_table['Var'] > 1e-2].sort_values(by='Var', ascending=False).plot(use_index=False)"
   ],
   "outputs": [],
   "execution_count": null
  },
  {
   "cell_type": "code",
   "metadata": {},
   "source": [
    "# Variance quantile to drop all genes but the chosen number of probes showing the top variance\n",
    "# (since there are quite a lot of missing values, the result is lower than the selected number of probes)\n",
    "q = (variance_table.shape[0] - 4e3) / variance_table.shape[0]\n",
    "print(f'Percentile = {round(q * 100, 1)}%')\n",
    "\n",
    "variance_table[variance_table['Var'] > variance_table['Var'].quantile(q=q)].shape"
   ],
   "outputs": [],
   "execution_count": null
  },
  {
   "cell_type": "code",
   "metadata": {},
   "source": [
    "# Get IDs for all probes to keep\n",
    "probes_to_keep = list(variance_table[variance_table['Var'] > variance_table['Var'].quantile(q=q)].index)\n",
    "probes_to_keep[:5]"
   ],
   "outputs": [],
   "execution_count": null
  },
  {
   "cell_type": "code",
   "metadata": {},
   "source": [
    "len(probes_to_keep)"
   ],
   "outputs": [],
   "execution_count": null
  },
  {
   "cell_type": "markdown",
   "metadata": {},
   "source": [
    "## Load all data"
   ]
  },
  {
   "cell_type": "code",
   "metadata": {},
   "source": [
    "def load_all_DNAm_data(patient_file_map, probes):\n",
    "    n = len(patient_file_map)\n",
    "    \n",
    "    dfs = []\n",
    "    for i, patient in enumerate(patient_file_map):\n",
    "        print('\\r' + f'Load data tables: {str(i + 1)}/{n}', end='')\n",
    "        df = pd.read_csv(patient_file_map[patient], sep='\\t', index_col=0,\n",
    "                         usecols=['Composite Element REF', 'Beta_value'])\n",
    "        df = df.loc[probes]\n",
    "        df.columns = [patient]\n",
    "        dfs.append(df)\n",
    "\n",
    "    print()\n",
    "    print()\n",
    "\n",
    "    return dfs"
   ],
   "outputs": [],
   "execution_count": null
  },
  {
   "cell_type": "code",
   "metadata": {},
   "source": [
    "%%time\n",
    "\n",
    "data_tables = load_all_DNAm_data(patient_file_map=file_map, probes=probes_to_keep)"
   ],
   "outputs": [],
   "execution_count": null
  },
  {
   "cell_type": "code",
   "metadata": {},
   "source": [
    "data_tables[0].head()"
   ],
   "outputs": [],
   "execution_count": null
  },
  {
   "cell_type": "code",
   "metadata": {},
   "source": [
    "%%time\n",
    "\n",
    "DNAm = merge_all_tables(data_tables)"
   ],
   "outputs": [],
   "execution_count": null
  },
  {
   "cell_type": "markdown",
   "metadata": {},
   "source": [
    "__Note:__ There is <font style=\"color:red\">no need to scale DNA methylation Beta Values</font> here, since they are already in the interval [0, 1]."
   ]
  },
  {
   "cell_type": "code",
   "metadata": {},
   "source": [
    "DNAm.shape"
   ],
   "outputs": [],
   "execution_count": null
  },
  {
   "cell_type": "code",
   "metadata": {},
   "source": [
    "DNAm.head()"
   ],
   "outputs": [],
   "execution_count": null
  },
  {
   "cell_type": "code",
   "metadata": {},
   "source": [
    "DNAm=DNAm.T"
   ],
   "outputs": [],
   "execution_count": null
  },
  {
   "cell_type": "code",
   "metadata": {},
   "source": [
    "DNAm.head()"
   ],
   "outputs": [],
   "execution_count": null
  },
  {
   "cell_type": "markdown",
   "metadata": {},
   "source": [
    "## Replace `nan` by median value"
   ]
  },
  {
   "cell_type": "code",
   "metadata": {},
   "source": [
    "DNAm.isna().sum()"
   ],
   "outputs": [],
   "execution_count": null
  },
  {
   "cell_type": "code",
   "metadata": {},
   "source": [
    "DNAm.median()"
   ],
   "outputs": [],
   "execution_count": null
  },
  {
   "cell_type": "code",
   "metadata": {},
   "source": [
    "DNAm.fillna(DNAm.median()).isna().sum()"
   ],
   "outputs": [],
   "execution_count": null
  },
  {
   "cell_type": "code",
   "metadata": {},
   "source": [
    "DNAm = DNAm.fillna(DNAm.median())"
   ],
   "outputs": [],
   "execution_count": null
  },
  {
   "cell_type": "markdown",
   "metadata": {},
   "source": [
    "## Save to files"
   ]
  },
  {
   "cell_type": "raw",
   "metadata": {},
   "source": [
    "%%time\n",
    "\n",
    "table_to_patient_files(\n",
    "    DNAm, dir_path=os.path.join(DATA_LOCATION, 'DNAm'), round_digits=4)"
   ]
  },
  {
   "cell_type": "markdown",
   "metadata": {},
   "source": [
    "# CNV"
   ]
  },
  {
   "cell_type": "markdown",
   "metadata": {},
   "source": [
    "## Map aliquotes to patients\n",
    "\n",
    "Use the [GDC API](https://docs.gdc.cancer.gov/API/Users_Guide/Python_Examples/#using-python-to-query-the-gdc-api) to retrieve mapping of aliquote IDs to patients found in the 33 tables (one per cancer entity). Collect results as Pandas `DataFrame`."
   ]
  },
  {
   "cell_type": "code",
   "metadata": {},
   "source": [
    "%%time\n",
    "\n",
    "response = requests.get('https://api.gdc.cancer.gov/cases',\n",
    "                        params={\n",
    "                            'fields': 'cases.samples.portions.analytes.aliquots',\n",
    "                            'format': 'TSV',\n",
    "                            'size': '200000'\n",
    "                        })\n",
    "cnv_aliquotes = pd.read_csv(StringIO(response.content.decode(\"utf-8\")), sep=\"\\t\")"
   ],
   "outputs": [],
   "execution_count": null
  },
  {
   "cell_type": "code",
   "metadata": {},
   "source": [
    "cnv_aliquotes = cnv_aliquotes.set_index('submitter_id')\n",
    "cnv_aliquotes.shape"
   ],
   "outputs": [],
   "execution_count": null
  },
  {
   "cell_type": "code",
   "metadata": {},
   "source": [
    "cnv_aliquotes.head()"
   ],
   "outputs": [],
   "execution_count": null
  },
  {
   "cell_type": "code",
   "metadata": {},
   "source": [
    "cnv_aliquotes = cnv_aliquotes[cnv_aliquotes.index.str.startswith('TCGA')]"
   ],
   "outputs": [],
   "execution_count": null
  },
  {
   "cell_type": "code",
   "metadata": {},
   "source": [
    "print('Unique patients:', cnv_aliquotes.index.unique().shape[0])"
   ],
   "outputs": [],
   "execution_count": null
  },
  {
   "cell_type": "code",
   "metadata": {},
   "source": [
    "cnv_aliquotes.index.duplicated"
   ],
   "outputs": [],
   "execution_count": null
  },
  {
   "cell_type": "code",
   "metadata": {},
   "source": [
    "aliquote_map = {}\n",
    "\n",
    "aliquote_cols = [col for col in cnv_aliquotes if col.startswith('aliquot_ids')]\n",
    "\n",
    "for index, row in cnv_aliquotes.iterrows():\n",
    "    if index in aliquote_map.keys():\n",
    "        print(index, 'already in aliquote map!')\n",
    "    \n",
    "    aliquote_map[index] = []\n",
    "    row = row.loc[~row.isnull()]\n",
    "    cols = [col for col in aliquote_cols if col in row]\n",
    "    \n",
    "    for col in cols:\n",
    "        aliquote_map[index].append(row[col])"
   ],
   "outputs": [],
   "execution_count": null
  },
  {
   "cell_type": "code",
   "metadata": {},
   "source": [
    "len(aliquote_map)"
   ],
   "outputs": [],
   "execution_count": null
  },
  {
   "cell_type": "markdown",
   "metadata": {},
   "source": [
    "## Load all data"
   ]
  },
  {
   "cell_type": "code",
   "metadata": {},
   "source": [
    "!ls /mnt/dataA/TCGA/raw/CNV/ | wc -l"
   ],
   "outputs": [],
   "execution_count": null
  },
  {
   "cell_type": "code",
   "metadata": {},
   "source": [
    "def load_all_CNV_data():\n",
    "    base_dir = '/mnt/dataA/TCGA/raw/CNV/'\n",
    "    project_dirs = [(os.path.join(base_dir, d)) for d in os.listdir(base_dir)]\n",
    "    files = [(os.path.join(pd, f)) for pd in project_dirs\n",
    "             for f in os.listdir(pd) if f.endswith('focal_score_by_genes.txt')]    \n",
    "    \n",
    "    dfs = []\n",
    "    n = len(files)\n",
    "\n",
    "    for i, f in enumerate(files):\n",
    "        print('\\r' + f'Load data tables: {str(i + 1)}/{n}', end='')\n",
    "        df = pd.read_csv(f, sep='\\t', index_col=0)\n",
    "        df = df.iloc[:, 2:]\n",
    "        dfs.append(df)\n",
    "\n",
    "    print()\n",
    "    print()\n",
    "\n",
    "    return dfs"
   ],
   "outputs": [],
   "execution_count": null
  },
  {
   "cell_type": "code",
   "metadata": {},
   "source": [
    "data_tables = load_all_CNV_data()"
   ],
   "outputs": [],
   "execution_count": null
  },
  {
   "cell_type": "code",
   "metadata": {},
   "source": [
    "data_tables[0].head()"
   ],
   "outputs": [],
   "execution_count": null
  },
  {
   "cell_type": "code",
   "metadata": {},
   "source": [
    "cnv = merge_all_tables(data_tables)"
   ],
   "outputs": [],
   "execution_count": null
  },
  {
   "cell_type": "code",
   "metadata": {},
   "source": [
    "cnv.shape"
   ],
   "outputs": [],
   "execution_count": null
  },
  {
   "cell_type": "markdown",
   "metadata": {},
   "source": [
    "## Are there unchanged genes?\n",
    "\n",
    "Any genes with the same value for all patients will be completely uninformative."
   ]
  },
  {
   "cell_type": "code",
   "metadata": {},
   "source": [
    "# Any genes with same CNV value across all samples?\n",
    "unchanged_genes = []\n",
    "\n",
    "for index, row in cnv.iterrows():\n",
    "    if len(pd.unique(row)) < 2:\n",
    "        unchanged_genes.append(index)"
   ],
   "outputs": [],
   "execution_count": null
  },
  {
   "cell_type": "code",
   "metadata": {},
   "source": [
    "print('# of unchanged genes:', len(unchanged_genes))"
   ],
   "outputs": [],
   "execution_count": null
  },
  {
   "cell_type": "markdown",
   "metadata": {},
   "source": [
    "## Replace aliquote by patient IDs"
   ]
  },
  {
   "cell_type": "code",
   "metadata": {},
   "source": [
    "def lookup_submitter_id(df, aliquote_id_map):\n",
    "    cols = df.columns\n",
    "    n = len(cols)\n",
    "\n",
    "    for i, col in enumerate(cols):\n",
    "        print('\\r' + f'Replace col names by patient IDs: {str(i + 1)}/{n}', end='')\n",
    "        for patient in aliquote_id_map:\n",
    "            if col in aliquote_id_map[patient]:\n",
    "                patient_id = patient\n",
    "            \n",
    "        df.rename(columns={col: patient_id}, inplace=True)\n",
    "   \n",
    "    return df"
   ],
   "outputs": [],
   "execution_count": null
  },
  {
   "cell_type": "code",
   "metadata": {},
   "source": [
    "%%time\n",
    "\n",
    "cnv = lookup_submitter_id(cnv, aliquote_map)\n",
    "print()"
   ],
   "outputs": [],
   "execution_count": null
  },
  {
   "cell_type": "code",
   "metadata": {},
   "source": [
    "cnv.head()"
   ],
   "outputs": [],
   "execution_count": null
  },
  {
   "cell_type": "markdown",
   "metadata": {},
   "source": [
    "### Check duplicate patient IDs\n",
    "\n",
    "Are there duplicate column names (more than one aliquote from the same patient)? If so, keep only one after checking that all values are equal."
   ]
  },
  {
   "cell_type": "code",
   "metadata": {},
   "source": [
    "# Any non-replaced column names\n",
    "old_names = []\n",
    "for col in cnv.columns:\n",
    "    if not col.startswith('TCGA-'):\n",
    "        old_names.append(col)\n",
    "\n",
    "print('# columns with old name (not replaced by patient ID):', len(old_names))"
   ],
   "outputs": [],
   "execution_count": null
  },
  {
   "cell_type": "code",
   "metadata": {},
   "source": [
    "# Non-unique column names\n",
    "len(cnv.columns) - len(set(cnv.columns))"
   ],
   "outputs": [],
   "execution_count": null
  },
  {
   "cell_type": "code",
   "metadata": {},
   "source": [
    "from collections import Counter\n",
    "\n",
    "c = Counter(cnv.columns)\n",
    "\n",
    "duplicated_cols = [col for col in c if c[col] > 1]\n",
    "len(duplicated_cols)"
   ],
   "outputs": [],
   "execution_count": null
  },
  {
   "cell_type": "code",
   "metadata": {},
   "source": [
    "set(c.values())"
   ],
   "outputs": [],
   "execution_count": null
  },
  {
   "cell_type": "code",
   "metadata": {},
   "source": [
    "# Are repeats different?\n",
    "\n",
    "not_equal_cols = []\n",
    "\n",
    "for col in duplicated_cols:\n",
    "    n_repeats = cnv.loc[:, col].shape[1]\n",
    "    for i in range(n_repeats):\n",
    "        if not cnv.loc[:, col].iloc[:, 0].equals(cnv.loc[:, col].iloc[:, 1]):\n",
    "            not_equal_cols.append(col)"
   ],
   "outputs": [],
   "execution_count": null
  },
  {
   "cell_type": "code",
   "metadata": {},
   "source": [
    "len(set(not_equal_cols))"
   ],
   "outputs": [],
   "execution_count": null
  },
  {
   "cell_type": "code",
   "metadata": {},
   "source": [
    "not_equal_cols[:5]"
   ],
   "outputs": [],
   "execution_count": null
  },
  {
   "cell_type": "code",
   "metadata": {},
   "source": [
    "# How different are they? Look at a couple of examples\n",
    "eg = cnv.loc[:, not_equal_cols[60]]\n",
    "eg.head()"
   ],
   "outputs": [],
   "execution_count": null
  },
  {
   "cell_type": "code",
   "metadata": {},
   "source": [
    "print('# equal rows:', len(np.where(eg.iloc[:, 0] == eg.iloc[:, 1])[0]))\n",
    "print('# different rows:', len(np.where(eg.iloc[:, 0] != eg.iloc[:, 1])[0]))"
   ],
   "outputs": [],
   "execution_count": null
  },
  {
   "cell_type": "markdown",
   "metadata": {},
   "source": [
    "Variable number of differences. My non-systematic check returned values from as low as 5 different values to as high as 1'744. For now, just drop all but one column at random."
   ]
  },
  {
   "cell_type": "code",
   "metadata": {},
   "source": [
    "cnv = cnv.T\n",
    "cnv.head()"
   ],
   "outputs": [],
   "execution_count": null
  },
  {
   "cell_type": "code",
   "metadata": {},
   "source": [
    "cnv.shape"
   ],
   "outputs": [],
   "execution_count": null
  },
  {
   "cell_type": "code",
   "metadata": {},
   "source": [
    "# Non-unique column names\n",
    "cnv[cnv.index.duplicated()].shape"
   ],
   "outputs": [],
   "execution_count": null
  },
  {
   "cell_type": "code",
   "metadata": {},
   "source": [
    "len(cnv)"
   ],
   "outputs": [],
   "execution_count": null
  },
  {
   "cell_type": "code",
   "metadata": {},
   "source": [
    "cnv = cnv.drop_duplicates(keep='first')\n",
    "len(cnv)"
   ],
   "outputs": [],
   "execution_count": null
  },
  {
   "cell_type": "code",
   "metadata": {},
   "source": [
    "# Non-unique column names\n",
    "cnv[cnv.index.duplicated()].shape"
   ],
   "outputs": [],
   "execution_count": null
  },
  {
   "cell_type": "code",
   "metadata": {},
   "source": [
    "cnv_copy = cnv.copy()"
   ],
   "outputs": [],
   "execution_count": null
  },
  {
   "cell_type": "code",
   "metadata": {},
   "source": [
    "cnv_copy.shape"
   ],
   "outputs": [],
   "execution_count": null
  },
  {
   "cell_type": "code",
   "metadata": {},
   "source": [
    "idxs = []\n",
    "to_drop = []\n",
    "n = cnv_copy.shape[0]\n",
    "\n",
    "for i, idx in enumerate(cnv_copy.index):\n",
    "    print('\\r' + f'Check patient IDs for repeats: {str(i + 1)}/{n}', end='')\n",
    "    if idx not in idxs:\n",
    "        idxs.append(idx)\n",
    "    else:\n",
    "        to_drop.append(i)"
   ],
   "outputs": [],
   "execution_count": null
  },
  {
   "cell_type": "code",
   "metadata": {},
   "source": [
    "len(to_drop)"
   ],
   "outputs": [],
   "execution_count": null
  },
  {
   "cell_type": "code",
   "metadata": {},
   "source": [
    "cnv.drop(cnv.index[to_drop], inplace=True)"
   ],
   "outputs": [],
   "execution_count": null
  },
  {
   "cell_type": "code",
   "metadata": {},
   "source": [
    "cnv_copy.shape"
   ],
   "outputs": [],
   "execution_count": null
  },
  {
   "cell_type": "code",
   "metadata": {},
   "source": [
    "cnv.shape"
   ],
   "outputs": [],
   "execution_count": null
  },
  {
   "cell_type": "markdown",
   "metadata": {},
   "source": [
    "## Encode categorical variables\n",
    "\n",
    "Encode values (0, 1, or -1) to use with categorical embeddings."
   ]
  },
  {
   "cell_type": "code",
   "metadata": {},
   "source": [
    "cnv.head()"
   ],
   "outputs": [],
   "execution_count": null
  },
  {
   "cell_type": "code",
   "metadata": {},
   "source": [
    "label_encoders = {}\n",
    "for gene in cnv.columns:\n",
    "    label_encoders[gene] = LabelEncoder()\n",
    "    label_encoders[gene].fit_transform(cnv.loc[:, gene])\n",
    "\n",
    "for gene in cnv.columns:\n",
    "    cnv.loc[:, gene] = label_encoders[gene].fit_transform(cnv.loc[:, gene])"
   ],
   "outputs": [],
   "execution_count": null
  },
  {
   "cell_type": "code",
   "metadata": {},
   "source": [
    "pd.unique(cnv.iloc[:, 0])"
   ],
   "outputs": [],
   "execution_count": null
  },
  {
   "cell_type": "code",
   "metadata": {},
   "source": [
    "pd.unique([int(cnv[col].nunique()) for col in cnv.columns])"
   ],
   "outputs": [],
   "execution_count": null
  },
  {
   "cell_type": "markdown",
   "metadata": {},
   "source": [
    "All genes have embedding dimension 3. According to the rule-of-thumb from the Fast.ai course the embedding size should be 2."
   ]
  },
  {
   "cell_type": "code",
   "metadata": {},
   "source": [
    "cat_dim = 3\n",
    "emb_size = min(50, (cat_dim + 1) // 2)\n",
    "print(f'Embedding size of {emb_size}')\n",
    "print(f'(categorical dimension {cat_dim} and a total of {cnv.shape[1]} features)')"
   ],
   "outputs": [],
   "execution_count": null
  },
  {
   "cell_type": "markdown",
   "metadata": {},
   "source": [
    "### Drop unused patients\n",
    "\n",
    "Keep only patients present in label data."
   ]
  },
  {
   "cell_type": "code",
   "metadata": {},
   "source": [
    "labels = pd.read_csv('../data/labels.tsv', sep='\\t')\n",
    "len(labels['submitter_id'])"
   ],
   "outputs": [],
   "execution_count": null
  },
  {
   "cell_type": "code",
   "metadata": {},
   "source": [
    "cnv.shape"
   ],
   "outputs": [],
   "execution_count": null
  },
  {
   "cell_type": "code",
   "metadata": {},
   "source": [
    "len(cnv.index)"
   ],
   "outputs": [],
   "execution_count": null
  },
  {
   "cell_type": "code",
   "metadata": {},
   "source": [
    "%%time\n",
    "\n",
    "for patient in cnv.index:\n",
    "    if patient not in list(labels['submitter_id']):\n",
    "        cnv.drop(patient, inplace=True)"
   ],
   "outputs": [],
   "execution_count": null
  },
  {
   "cell_type": "code",
   "metadata": {},
   "source": [
    "cnv.shape"
   ],
   "outputs": [],
   "execution_count": null
  },
  {
   "cell_type": "markdown",
   "metadata": {},
   "source": [
    "## Keep only high-variance genes"
   ]
  },
  {
   "cell_type": "code",
   "metadata": {},
   "source": [
    "var = cnv.var()"
   ],
   "outputs": [],
   "execution_count": null
  },
  {
   "cell_type": "code",
   "metadata": {},
   "source": [
    "var[var > 1e-2].sort_values(ascending=False).plot(use_index=False)"
   ],
   "outputs": [],
   "execution_count": null
  },
  {
   "cell_type": "code",
   "metadata": {},
   "source": [
    "# Variance quantile to drop all but the chosen number of genes showing the top variance\n",
    "q = (len(var) - 5e3) / len(var)\n",
    "print(f'Percentile = {round(q * 100, 1)}%')\n",
    "\n",
    "var[var > var.quantile(q=q)].shape"
   ],
   "outputs": [],
   "execution_count": null
  },
  {
   "cell_type": "code",
   "metadata": {},
   "source": [
    "# Variance quantile to drop all but the chosen number of genes showing the top variance\n",
    "q = (len(var) - 2e3) / len(var)\n",
    "print(f'Percentile = {round(q * 100, 1)}%')\n",
    "\n",
    "var[var > var.quantile(q=q)].shape"
   ],
   "outputs": [],
   "execution_count": null
  },
  {
   "cell_type": "code",
   "metadata": {},
   "source": [
    "# Get IDs for all genes to keep\n",
    "genes_to_keep = list(var[var > var.quantile(q=q)].index)\n",
    "genes_to_keep[:5]"
   ],
   "outputs": [],
   "execution_count": null
  },
  {
   "cell_type": "code",
   "metadata": {},
   "source": [
    "len(genes_to_keep)"
   ],
   "outputs": [],
   "execution_count": null
  },
  {
   "cell_type": "code",
   "metadata": {},
   "source": [
    "cnv = cnv[genes_to_keep]"
   ],
   "outputs": [],
   "execution_count": null
  },
  {
   "cell_type": "code",
   "metadata": {},
   "source": [
    "cnv.shape"
   ],
   "outputs": [],
   "execution_count": null
  },
  {
   "cell_type": "markdown",
   "metadata": {},
   "source": [
    "## Save to files"
   ]
  },
  {
   "cell_type": "raw",
   "metadata": {},
   "source": [
    "%%time\n",
    "\n",
    "table_to_patient_files(\n",
    "    cnv, dir_path=os.path.join(DATA_LOCATION, 'CNV'), round_digits=4)"
   ]
  },
  {
   "cell_type": "markdown",
   "metadata": {},
   "source": [
    "# Watermark <a class='tocSkip'></a>"
   ]
  },
  {
   "cell_type": "code",
   "metadata": {},
   "source": [
    "%watermark --iversions\n",
    "%watermark -v\n",
    "print()\n",
    "%watermark -u -n"
   ],
   "outputs": [],
   "execution_count": null
  },
  {
   "cell_type": "markdown",
   "metadata": {},
   "source": [
    "[Top of the page](#Top)"
   ]
  }
 ],
 "metadata": {
  "kernelspec": {
   "name": "ohad",
   "language": "python",
   "display_name": "ohad"
  },
  "language_info": {
   "codemirror_mode": {
    "name": "ipython",
    "version": 3
   },
   "file_extension": ".py",
   "mimetype": "text/x-python",
   "name": "python",
   "nbconvert_exporter": "python",
   "pygments_lexer": "ipython3",
   "version": "3.6.7"
  },
  "toc": {
   "base_numbering": 1,
   "nav_menu": {
    "height": "197px",
    "width": "372px"
   },
   "number_sections": true,
   "sideBar": true,
   "skip_h1_title": false,
   "title_cell": "Table of Contents",
   "title_sidebar": "Contents",
   "toc_cell": true,
   "toc_position": {
    "height": "calc(100% - 180px)",
    "left": "10px",
    "top": "150px",
    "width": "298px"
   },
   "toc_section_display": true,
   "toc_window_display": true
  }
 },
 "nbformat": 4,
 "nbformat_minor": 2
}
